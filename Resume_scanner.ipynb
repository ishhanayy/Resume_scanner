{
 "cells": [
  {
   "cell_type": "code",
   "execution_count": null,
   "id": "cad1cce2",
   "metadata": {},
   "outputs": [
    {
     "name": "stdout",
     "output_type": "stream",
     "text": [
      "Collecting docx2txt\n",
      "  Using cached docx2txt-0.8.tar.gz (2.8 kB)\n",
      "Building wheels for collected packages: docx2txt\n",
      "  Building wheel for docx2txt (setup.py): started\n",
      "  Building wheel for docx2txt (setup.py): finished with status 'done'\n",
      "  Created wheel for docx2txt: filename=docx2txt-0.8-py3-none-any.whl size=3980 sha256=445912ec502e9deab0668952c3737b37947d850947956edee2ef58d160b49a17\n",
      "  Stored in directory: c:\\users\\adity\\appdata\\local\\pip\\cache\\wheels\\40\\75\\01\\e6c444034338bde9c7947d3467807f889123465c2371e77418\n",
      "Successfully built docx2txt\n",
      "Installing collected packages: docx2txt\n",
      "Successfully installed docx2txt-0.8\n",
      "Note: you may need to restart the kernel to use updated packages.\n"
     ]
    }
   ],
   "source": [
    "pip install docx2txt"
   ]
  },
  {
   "cell_type": "code",
   "execution_count": null,
   "id": "a1cacd2d",
   "metadata": {},
   "outputs": [],
   "source": [
    "import docx2txt"
   ]
  },
  {
   "cell_type": "code",
   "execution_count": null,
   "id": "23f9ac41",
   "metadata": {},
   "outputs": [
    {
     "name": "stdout",
     "output_type": "stream",
     "text": [
      "Robert Smith \n",
      "\n",
      "Data Scientist Trainee\n",
      "\n",
      "PERSONAL STATEMENT\n",
      "\n",
      "To obtain a position as a Data Architect in a collaborative environment\n",
      "\n",
      "utilizing my creativity and technical skills. The position must demand a high\n",
      "\n",
      "degree of self-motivation and the ability to drive data-centric solutions for\n",
      "\n",
      "complex business problems. I most enjoy solving problems that require my\n",
      "\n",
      "data modeling, analytics, and solution architecture expertise.\n",
      "\n",
      "WORK EXPERIENCE\n",
      "\n",
      "Data Scientist Trainee\n",
      "\n",
      "ABC Corporation - March 2014 – April 2016\n",
      "\n",
      "Responsibilities:\n",
      "\n",
      " Business Opportunity Network Kinetix provides Business Assurance and\n",
      "\n",
      "Revenue solutions to mobile carriers, enabling non-intrusive access to\n",
      "\n",
      "live network traffic for immediate analysis, decisions, and action on\n",
      "\n",
      "revenue-impacting events.\n",
      "\n",
      " Examples include Fraud Detection (International Revenue Sharing\n",
      "\n",
      "Fraud, Identity Fraud, SIM Box By-Pass Fraud), 911 Outage, Network\n",
      "\n",
      "Operations, and Customer Experience.\n",
      "\n",
      " My Contributions Model complex mobile carrier problems through using\n",
      "\n",
      "statistical, algorithmic, mining, and visualization techniques.\n",
      "\n",
      " Produce operable insights using supervised and unsupervised machine\n",
      "\n",
      "learning.\n",
      "\n",
      " Integrate live data from multiple network protocols.\n",
      "\n",
      " Create live data analytics applications that make data-driven decisions\n",
      "\n",
      "on each event as it enters the data pipeline based on rules discovered\n",
      "\n",
      "through machine learning.\n",
      "\n",
      " Deployed on the HP Helion Public Cloud demonstrating a scalable cloud\n",
      "\n",
      "version of network data analytics application.\n",
      "\n",
      "Data Scientist\n",
      "\n",
      "ABC Corporation - 2012 – 2014\n",
      "\n",
      "Responsibilities:\n",
      "\n",
      " Worked on, multiple projects to leverage statistical learning/machine\n",
      "\n",
      "learning algorithms to automate Alternate Asset Servicing.\n",
      "\n",
      " The automation helped NT to reduce errors and improve operational\n",
      "\n",
      "efficiency.\n",
      "\n",
      " Further, developed BI reports that provided predictive analytics &\n",
      "\n",
      "Reporting with dashboards on analyst performance, client activity,\n",
      "\n",
      "future workload & anomalies based on data collected from discrete\n",
      "\n",
      "applications.\n",
      "\n",
      " Defined Project Scope, project Charter & Business Case Prototype\n",
      "\n",
      "machine learning algorithm for POC (Proof Of Concept) Performed Data\n",
      "\n",
      "Cleaning, features scaling, features engineering, Developed predictive\n",
      "\n",
      "models for use in machine learning platform using the scikit-learn\n",
      "\n",
      "python framework Improved statistical models using learning curves,\n",
      "\n",
      "parameter curves, feature selection, and regularization.\n",
      "\n",
      " Performed ad-hoc data analysis for customer insights using hive on\n",
      "\n",
      "© This Free Resume Template is the copyright of Qwikresume.com. Usage Guidelines\n",
      "\n",
      "CONTACT DETAILS\n",
      "\n",
      "1737 Marshville Road,\n",
      "\n",
      "Alabama\n",
      "\n",
      "(123)-456-7899\n",
      "\n",
      "info@qwikresume.com\n",
      "\n",
      "www.qwikresume.com\n",
      "\n",
      "SKILLS\n",
      "\n",
      "Data Architecture, Data\n",
      "\n",
      "Modeling, Big Data, SQL.\n",
      "\n",
      "LANGUAGES\n",
      "\n",
      "English (Native)\n",
      "\n",
      "French (Professional)\n",
      "\n",
      "Spanish (Professional)\n",
      "\n",
      "INTERESTS\n",
      "\n",
      "Climbing\n",
      "\n",
      "Snowboarding\n",
      "\n",
      "Cooking\n",
      "\n",
      "Reading\n",
      "\n",
      "REFERENCES\n",
      "\n",
      "Reference – 1 (Company\n",
      "\n",
      "Name)\n",
      "\n",
      "Reference – 2 (Company\n",
      "\n",
      "Name)\n",
      "\n",
      "Hadoop cluster Developed MapReduce pipeline for feature extraction\n",
      "\n",
      "Implemented SVM using gradient descent algorithm Performed Principal\n",
      "\n",
      "Component Analysis Fine-tuned low bias & High variance trade off\n",
      "\n",
      "Defined the technical requirements of the analytic solutions.\n",
      "\n",
      " Defined the data requirements of the analytic solution.\n",
      "\n",
      " Worked on commercial data from desperate source systems, built data\n",
      "\n",
      "models and transformed data to provide added value in IT applications\n",
      "\n",
      "by streamlining processes, reducing cost , maximizing profits & rolling\n",
      "\n",
      "out business solutions that met one of the.\n",
      "\n",
      "Education\n",
      "\n",
      "Bachelor's in Mathematics - (Sonoma State University)\n"
     ]
    }
   ],
   "source": [
    "resume = docx2txt.process('C:\\\\Users\\\\adity\\\\OneDrive\\\\Documents\\\\resumeSample.docx')\n",
    "print(resume)"
   ]
  },
  {
   "cell_type": "code",
   "execution_count": null,
   "id": "79273196",
   "metadata": {},
   "outputs": [
    {
     "name": "stdout",
     "output_type": "stream",
     "text": [
      "Data Scientist\n",
      "\n",
      "[Intro Paragraph] The most effective data scientist job descriptions begin with a few sentences introducing prospective applicants to your company, corporate culture, and working environment. Is your company working on cutting edge data science projects or just trying to get a better read on potential customers? Are you a scrappy startup or an established brand? This is where you’ll differentiate your workplace from the competition.\n",
      "\n",
      "Data Scientist Job Responsibilities:\n",
      "\n",
      "Formulates and leads guided, multifaceted analytic studies against large volumes of data.\n",
      "\n",
      "Interprets and analyzes data using exploratory mathematic and statistical techniques based on the scientific method.\n",
      "\n",
      "Coordinates research and analytic activities utilizing various data points (unstructured and structured) and employ programming to clean, massage, and organize the data.\n",
      "\n",
      "Experiments against data points, provide information based on experiment results and provide previously undiscovered solutions to command data challenges.\n",
      "\n",
      "Leads all data experiments tasked by the Data Science Team.\n",
      "\n",
      "Coordinates with Data Engineers to build data environments providing data identified by Data Analysts, Data Integrators, Knowledge Managers, and Intel Analysts.\n",
      "\n",
      "Develops methodology and processes for prioritization and scheduling of projects.\n",
      "\n",
      "Analyzes problems and determines root causes.\n",
      "\n",
      "Defines company data assets (data models), spark, sparkSQL, and hiveSQL jobs to populate data models.\n",
      "\n",
      "Works closely with all business units and engineering teams to develop strategy for long term data platform architecture.\n",
      "\n",
      "[Work Hours & Benefits] This is an excellent place to include details about your working hours and benefits. Inform prospective data scientists about the availability of flexible hours, work from home options, or other telecommuting opportunities. Don’t forget to also highlight unique office perks and benefits you offer, like conference sponsorships, continuing education credits, or paid time off.\n",
      "\n",
      "Data Scientist Qualifications / Skills:\n",
      "\n",
      "Advanced analytical knowledge of data\n",
      "\n",
      "Conducting big data analysis\n",
      "\n",
      "Data conditioning\n",
      "\n",
      "Programming advanced computing\n",
      "\n",
      "Developing algorithms\n",
      "\n",
      "Developing software and data models\n",
      "\n",
      "Executing predictive analytics\n",
      "\n",
      "Education, Experience, and Licensing Requirements:\n",
      "\n",
      "Master’s degree in Operations Research, Industrial Engineering, Applied Mathematics, Statistics, Physics, Computer Science, or related fields\n",
      "\n",
      "5-7 years of professional experience\n",
      "\n",
      "Proficient with one or more programming languages (Java, C++, Python, R, etc.)\n",
      "\n",
      "Demonstrated experience applying data science methods to real-world data problems\n",
      "\n",
      "Experience utilizing visualization tools to take advantage of the growing volume of available information\n"
     ]
    }
   ],
   "source": [
    "job_des=docx2txt.process('C:\\\\Users\\\\adity\\\\OneDrive\\\\Documents\\\\Coding\\\\PROJECTS\\\\Resume_scanner\\\\Job_description.docx')\n",
    "print(job_des)"
   ]
  },
  {
   "cell_type": "code",
   "execution_count": null,
   "id": "0a5f4ba3",
   "metadata": {},
   "outputs": [],
   "source": [
    "#list of resume to store resume and job description\n",
    "text = [resume, job_des]\n"
   ]
  },
  {
   "cell_type": "code",
   "execution_count": null,
   "id": "96761ba2",
   "metadata": {},
   "outputs": [],
   "source": [
    "from sklearn.feature_extraction.text import CountVectorizer\n",
    "cv = CountVectorizer()\n",
    "matrix = cv.fit_transform(text)"
   ]
  },
  {
   "cell_type": "code",
   "execution_count": null,
   "id": "91b67a62",
   "metadata": {},
   "outputs": [
    {
     "name": "stdout",
     "output_type": "stream",
     "text": [
      "[[1.         0.68247932]\n",
      " [0.68247932 1.        ]]\n"
     ]
    }
   ],
   "source": [
    "from sklearn.metrics.pairwise import cosine_similarity\n",
    "similarity_matrix = cosine_similarity(matrix)\n",
    "print(similarity_matrix)"
   ]
  },
  {
   "cell_type": "code",
   "execution_count": null,
   "id": "0a135c21",
   "metadata": {},
   "outputs": [
    {
     "name": "stdout",
     "output_type": "stream",
     "text": [
      "Resume matches by 68.24793197971168 %\n"
     ]
    }
   ],
   "source": [
    "print('Resume matches by')"
   ]
  }
 ],
 "metadata": {
  "kernelspec": {
   "display_name": "Python 3.10.5 64-bit",
   "language": "python",
   "name": "python3"
  },
  "language_info": {
   "codemirror_mode": {
    "name": "ipython",
    "version": 3
   },
   "file_extension": ".py",
   "mimetype": "text/x-python",
   "name": "python",
   "nbconvert_exporter": "python",
   "pygments_lexer": "ipython3",
   "version": "3.10.5"
  },
  "vscode": {
   "interpreter": {
    "hash": "26de051ba29f2982a8de78e945f0abaf191376122a1563185a90213a26c5da77"
   }
  }
 },
 "nbformat": 4,
 "nbformat_minor": 5
}
